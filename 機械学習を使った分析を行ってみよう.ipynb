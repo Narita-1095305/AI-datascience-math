{
  "nbformat": 4,
  "nbformat_minor": 0,
  "metadata": {
    "colab": {
      "name": "機械学習を使った分析を行ってみよう.ipynb",
      "provenance": [],
      "collapsed_sections": [],
      "authorship_tag": "ABX9TyNc5cOkQIxwiYxgru6bvDpR",
      "include_colab_link": true
    },
    "kernelspec": {
      "name": "python3",
      "display_name": "Python 3"
    },
    "language_info": {
      "name": "python"
    }
  },
  "cells": [
    {
      "cell_type": "markdown",
      "metadata": {
        "id": "view-in-github",
        "colab_type": "text"
      },
      "source": [
        "<a href=\"https://colab.research.google.com/github/Narita-1095305/AI-datascience-math/blob/main/%E6%A9%9F%E6%A2%B0%E5%AD%A6%E7%BF%92%E3%82%92%E4%BD%BF%E3%81%A3%E3%81%9F%E5%88%86%E6%9E%90%E3%82%92%E8%A1%8C%E3%81%A3%E3%81%A6%E3%81%BF%E3%82%88%E3%81%86.ipynb\" target=\"_parent\"><img src=\"https://colab.research.google.com/assets/colab-badge.svg\" alt=\"Open In Colab\"/></a>"
      ]
    },
    {
      "cell_type": "code",
      "execution_count": 1,
      "metadata": {
        "id": "Kna_9lOO4nFL",
        "colab": {
          "base_uri": "https://localhost:8080/"
        },
        "outputId": "96e96be7-9c78-4196-8185-7cf47a13f04a"
      },
      "outputs": [
        {
          "output_type": "stream",
          "name": "stdout",
          "text": [
            "Mounted at /content/drive\n",
            "/content/drive/MyDrive/AI-datascience-math/chapter2\n"
          ]
        }
      ],
      "source": [
        "#Colaboratory環境の設定\n",
        "from google.colab import drive\n",
        "drive.mount('/content/drive')\n",
        "%cd /content/drive/MyDrive/AI-datascience-math/chapter2"
      ]
    },
    {
      "cell_type": "markdown",
      "source": [
        "**2-1:顧客の行動パターンの類似度を計算しよう**"
      ],
      "metadata": {
        "id": "j1_83n9x5Jpt"
      }
    },
    {
      "cell_type": "code",
      "source": [
        "import pandas as pd\n",
        "df_info = pd.read_csv(\"accomodation_info.csv\", index_col=0, parse_dates=[0])\n",
        "df_info"
      ],
      "metadata": {
        "colab": {
          "base_uri": "https://localhost:8080/",
          "height": 455
        },
        "id": "XWaM1OT05EJD",
        "outputId": "51efb56a-698b-4f3e-a46d-7010e5a7df0f"
      },
      "execution_count": 3,
      "outputs": [
        {
          "output_type": "execute_result",
          "data": {
            "text/html": [
              "\n",
              "  <div id=\"df-b59d72ee-c9b5-45ca-a124-998f58b917ef\">\n",
              "    <div class=\"colab-df-container\">\n",
              "      <div>\n",
              "<style scoped>\n",
              "    .dataframe tbody tr th:only-of-type {\n",
              "        vertical-align: middle;\n",
              "    }\n",
              "\n",
              "    .dataframe tbody tr th {\n",
              "        vertical-align: top;\n",
              "    }\n",
              "\n",
              "    .dataframe thead th {\n",
              "        text-align: right;\n",
              "    }\n",
              "</style>\n",
              "<table border=\"1\" class=\"dataframe\">\n",
              "  <thead>\n",
              "    <tr style=\"text-align: right;\">\n",
              "      <th></th>\n",
              "      <th>顧客ID</th>\n",
              "      <th>宿泊者名</th>\n",
              "      <th>プラン</th>\n",
              "      <th>金額</th>\n",
              "    </tr>\n",
              "    <tr>\n",
              "      <th>日時</th>\n",
              "      <th></th>\n",
              "      <th></th>\n",
              "      <th></th>\n",
              "      <th></th>\n",
              "    </tr>\n",
              "  </thead>\n",
              "  <tbody>\n",
              "    <tr>\n",
              "      <th>2018-11-01 00:02:21</th>\n",
              "      <td>110034</td>\n",
              "      <td>若松 花子</td>\n",
              "      <td>B</td>\n",
              "      <td>19000</td>\n",
              "    </tr>\n",
              "    <tr>\n",
              "      <th>2018-11-01 00:03:10</th>\n",
              "      <td>112804</td>\n",
              "      <td>津田 美加子</td>\n",
              "      <td>D</td>\n",
              "      <td>20000</td>\n",
              "    </tr>\n",
              "    <tr>\n",
              "      <th>2018-11-01 00:06:19</th>\n",
              "      <td>110275</td>\n",
              "      <td>吉本 美加子</td>\n",
              "      <td>D</td>\n",
              "      <td>20000</td>\n",
              "    </tr>\n",
              "    <tr>\n",
              "      <th>2018-11-01 00:08:41</th>\n",
              "      <td>110169</td>\n",
              "      <td>坂本 直人</td>\n",
              "      <td>B</td>\n",
              "      <td>19000</td>\n",
              "    </tr>\n",
              "    <tr>\n",
              "      <th>2018-11-01 00:12:22</th>\n",
              "      <td>111504</td>\n",
              "      <td>青山 零</td>\n",
              "      <td>A</td>\n",
              "      <td>15000</td>\n",
              "    </tr>\n",
              "    <tr>\n",
              "      <th>...</th>\n",
              "      <td>...</td>\n",
              "      <td>...</td>\n",
              "      <td>...</td>\n",
              "      <td>...</td>\n",
              "    </tr>\n",
              "    <tr>\n",
              "      <th>2020-10-31 23:38:51</th>\n",
              "      <td>110049</td>\n",
              "      <td>吉本 篤司</td>\n",
              "      <td>A</td>\n",
              "      <td>3000</td>\n",
              "    </tr>\n",
              "    <tr>\n",
              "      <th>2020-10-31 23:42:12</th>\n",
              "      <td>110127</td>\n",
              "      <td>喜嶋 浩</td>\n",
              "      <td>A</td>\n",
              "      <td>3000</td>\n",
              "    </tr>\n",
              "    <tr>\n",
              "      <th>2020-10-31 23:47:24</th>\n",
              "      <td>115464</td>\n",
              "      <td>藤本 明美</td>\n",
              "      <td>D</td>\n",
              "      <td>8000</td>\n",
              "    </tr>\n",
              "    <tr>\n",
              "      <th>2020-10-31 23:53:22</th>\n",
              "      <td>114657</td>\n",
              "      <td>鈴木 七夏</td>\n",
              "      <td>A</td>\n",
              "      <td>3000</td>\n",
              "    </tr>\n",
              "    <tr>\n",
              "      <th>2020-10-31 23:57:21</th>\n",
              "      <td>111407</td>\n",
              "      <td>鈴木 治</td>\n",
              "      <td>A</td>\n",
              "      <td>3000</td>\n",
              "    </tr>\n",
              "  </tbody>\n",
              "</table>\n",
              "<p>71722 rows × 4 columns</p>\n",
              "</div>\n",
              "      <button class=\"colab-df-convert\" onclick=\"convertToInteractive('df-b59d72ee-c9b5-45ca-a124-998f58b917ef')\"\n",
              "              title=\"Convert this dataframe to an interactive table.\"\n",
              "              style=\"display:none;\">\n",
              "        \n",
              "  <svg xmlns=\"http://www.w3.org/2000/svg\" height=\"24px\"viewBox=\"0 0 24 24\"\n",
              "       width=\"24px\">\n",
              "    <path d=\"M0 0h24v24H0V0z\" fill=\"none\"/>\n",
              "    <path d=\"M18.56 5.44l.94 2.06.94-2.06 2.06-.94-2.06-.94-.94-2.06-.94 2.06-2.06.94zm-11 1L8.5 8.5l.94-2.06 2.06-.94-2.06-.94L8.5 2.5l-.94 2.06-2.06.94zm10 10l.94 2.06.94-2.06 2.06-.94-2.06-.94-.94-2.06-.94 2.06-2.06.94z\"/><path d=\"M17.41 7.96l-1.37-1.37c-.4-.4-.92-.59-1.43-.59-.52 0-1.04.2-1.43.59L10.3 9.45l-7.72 7.72c-.78.78-.78 2.05 0 2.83L4 21.41c.39.39.9.59 1.41.59.51 0 1.02-.2 1.41-.59l7.78-7.78 2.81-2.81c.8-.78.8-2.07 0-2.86zM5.41 20L4 18.59l7.72-7.72 1.47 1.35L5.41 20z\"/>\n",
              "  </svg>\n",
              "      </button>\n",
              "      \n",
              "  <style>\n",
              "    .colab-df-container {\n",
              "      display:flex;\n",
              "      flex-wrap:wrap;\n",
              "      gap: 12px;\n",
              "    }\n",
              "\n",
              "    .colab-df-convert {\n",
              "      background-color: #E8F0FE;\n",
              "      border: none;\n",
              "      border-radius: 50%;\n",
              "      cursor: pointer;\n",
              "      display: none;\n",
              "      fill: #1967D2;\n",
              "      height: 32px;\n",
              "      padding: 0 0 0 0;\n",
              "      width: 32px;\n",
              "    }\n",
              "\n",
              "    .colab-df-convert:hover {\n",
              "      background-color: #E2EBFA;\n",
              "      box-shadow: 0px 1px 2px rgba(60, 64, 67, 0.3), 0px 1px 3px 1px rgba(60, 64, 67, 0.15);\n",
              "      fill: #174EA6;\n",
              "    }\n",
              "\n",
              "    [theme=dark] .colab-df-convert {\n",
              "      background-color: #3B4455;\n",
              "      fill: #D2E3FC;\n",
              "    }\n",
              "\n",
              "    [theme=dark] .colab-df-convert:hover {\n",
              "      background-color: #434B5C;\n",
              "      box-shadow: 0px 1px 3px 1px rgba(0, 0, 0, 0.15);\n",
              "      filter: drop-shadow(0px 1px 2px rgba(0, 0, 0, 0.3));\n",
              "      fill: #FFFFFF;\n",
              "    }\n",
              "  </style>\n",
              "\n",
              "      <script>\n",
              "        const buttonEl =\n",
              "          document.querySelector('#df-b59d72ee-c9b5-45ca-a124-998f58b917ef button.colab-df-convert');\n",
              "        buttonEl.style.display =\n",
              "          google.colab.kernel.accessAllowed ? 'block' : 'none';\n",
              "\n",
              "        async function convertToInteractive(key) {\n",
              "          const element = document.querySelector('#df-b59d72ee-c9b5-45ca-a124-998f58b917ef');\n",
              "          const dataTable =\n",
              "            await google.colab.kernel.invokeFunction('convertToInteractive',\n",
              "                                                     [key], {});\n",
              "          if (!dataTable) return;\n",
              "\n",
              "          const docLinkHtml = 'Like what you see? Visit the ' +\n",
              "            '<a target=\"_blank\" href=https://colab.research.google.com/notebooks/data_table.ipynb>data table notebook</a>'\n",
              "            + ' to learn more about interactive tables.';\n",
              "          element.innerHTML = '';\n",
              "          dataTable['output_type'] = 'display_data';\n",
              "          await google.colab.output.renderOutput(dataTable, element);\n",
              "          const docLink = document.createElement('div');\n",
              "          docLink.innerHTML = docLinkHtml;\n",
              "          element.appendChild(docLink);\n",
              "        }\n",
              "      </script>\n",
              "    </div>\n",
              "  </div>\n",
              "  "
            ],
            "text/plain": [
              "                       顧客ID    宿泊者名 プラン     金額\n",
              "日時                                            \n",
              "2018-11-01 00:02:21  110034   若松 花子   B  19000\n",
              "2018-11-01 00:03:10  112804  津田 美加子   D  20000\n",
              "2018-11-01 00:06:19  110275  吉本 美加子   D  20000\n",
              "2018-11-01 00:08:41  110169   坂本 直人   B  19000\n",
              "2018-11-01 00:12:22  111504    青山 零   A  15000\n",
              "...                     ...     ...  ..    ...\n",
              "2020-10-31 23:38:51  110049   吉本 篤司   A   3000\n",
              "2020-10-31 23:42:12  110127    喜嶋 浩   A   3000\n",
              "2020-10-31 23:47:24  115464   藤本 明美   D   8000\n",
              "2020-10-31 23:53:22  114657   鈴木 七夏   A   3000\n",
              "2020-10-31 23:57:21  111407    鈴木 治   A   3000\n",
              "\n",
              "[71722 rows x 4 columns]"
            ]
          },
          "metadata": {},
          "execution_count": 3
        }
      ]
    },
    {
      "cell_type": "code",
      "source": [
        "import pandas as pd\n",
        "import matplotlib.pyplot as plt\n",
        "#indexの抽出\n",
        "x_0 = df_info.resample('M').count()\n",
        "x_0 = x_0.drop(x_0.columns.values,axis=1)\n",
        "# 順位の設定\n",
        "i_rank = 1\n",
        "j_rank = 2\n",
        "# 顧客IDの抽出\n",
        "i_id = df_info['顧客ID'].value_counts().index[i_rank]\n",
        "j_id = df_info['顧客ID'].value_counts().index[j_rank]\n",
        "# 月ごとの利用回数を特徴量として抽出\n",
        "x_i = df_info[df_info['顧客ID'] == i_id].resample('M').count()\n",
        "x_j = df_info[df_info['顧客ID'] == j_id].resample('M').count()\n",
        "# 欠損地の穴埋め\n",
        "x_i = pd.concat([x_0, x_i], axis=1).fillna(0)\n",
        "x_j = pd.concat([x_0, x_j], axis=1).fillna(0)\n",
        "# 描画\n",
        "\n",
        "plt.plot(x_i)\n",
        "plt.plot(x_j)\n",
        "plt.xticks(rotation=60)\n",
        "plt.show()"
      ],
      "metadata": {
        "colab": {
          "base_uri": "https://localhost:8080/",
          "height": 296
        },
        "id": "4054sA3T5w6-",
        "outputId": "69ba6953-981d-45aa-f45b-1a67fc170d11"
      },
      "execution_count": 9,
      "outputs": [
        {
          "output_type": "display_data",
          "data": {
            "image/png": "[encoded data removed]",
            "text/plain": [
              "<Figure size 432x288 with 1 Axes>"
            ]
          },
          "metadata": {
            "needs_background": "light"
          }
        }
      ]
    },
    {
      "cell_type": "code",
      "source": [
        "import pandas as pd\n",
        "import numpy as np\n",
        "\n",
        "dx = x_i.iloc[:,0].values-x_j.iloc[:,0].values\n",
        "\n",
        "n = np.linalg.norm(dx)\n",
        "\n",
        "num_dim = len(x_i)\n",
        "d = n / num_dim\n",
        "print(\"類似度:\",d)"
      ],
      "metadata": {
        "colab": {
          "base_uri": "https://localhost:8080/"
        },
        "id": "WtgolIcW8qbB",
        "outputId": "def66071-b1d5-493d-afc5-1b42f4d848bb"
      },
      "execution_count": 10,
      "outputs": [
        {
          "output_type": "stream",
          "name": "stdout",
          "text": [
            "類似度: 0.798218502527834\n"
          ]
        }
      ]
    }
  ]
}