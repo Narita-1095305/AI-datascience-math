{
  "nbformat": 4,
  "nbformat_minor": 0,
  "metadata": {
    "colab": {
      "name": "データを手にしてまず行うこと.ipynb",
      "provenance": [],
      "collapsed_sections": [],
      "authorship_tag": "ABX9TyPo4saBrgCljLvyUN0ByMcg",
      "include_colab_link": true
    },
    "kernelspec": {
      "name": "python3",
      "display_name": "Python 3"
    },
    "language_info": {
      "name": "python"
    }
  },
  "cells": [
    {
      "cell_type": "markdown",
      "metadata": {
        "id": "view-in-github",
        "colab_type": "text"
      },
      "source": [
        "<a href=\"https://colab.research.google.com/github/Narita-1095305/AI-datascience-math/blob/main/%E3%83%87%E3%83%BC%E3%82%BF%E3%82%92%E6%89%8B%E3%81%AB%E3%81%97%E3%81%A6%E3%81%BE%E3%81%9A%E8%A1%8C%E3%81%86%E3%81%93%E3%81%A8.ipynb\" target=\"_parent\"><img src=\"https://colab.research.google.com/assets/colab-badge.svg\" alt=\"Open In Colab\"/></a>"
      ]
    },
    {
      "cell_type": "markdown",
      "source": [
        "**1-1:データを読み込んでみよう**"
      ],
      "metadata": {
        "id": "H704Zs_-r6Pd"
      }
    },
    {
      "cell_type": "code",
      "execution_count": 2,
      "metadata": {
        "colab": {
          "base_uri": "https://localhost:8080/"
        },
        "id": "BO8dQKTGeL6T",
        "outputId": "98b48feb-8194-4d4f-cfa1-b2d0cef0e031"
      },
      "outputs": [
        {
          "output_type": "stream",
          "name": "stdout",
          "text": [
            "Mounted at /content/drive\n"
          ]
        }
      ],
      "source": [
        "#Colaboratory環境の設定\n",
        "from google.colab import drive\n",
        "drive.mount('/content/drive')"
      ]
    },
    {
      "cell_type": "code",
      "source": [
        "%cd /content/drive/MyDrive/AI-datascience-math/chapter1"
      ],
      "metadata": {
        "id": "f8_gaTZPsFCl",
        "colab": {
          "base_uri": "https://localhost:8080/"
        },
        "outputId": "88ebf2a3-0390-4f55-825c-a86561f703d2"
      },
      "execution_count": 3,
      "outputs": [
        {
          "output_type": "stream",
          "name": "stdout",
          "text": [
            "/content/drive/MyDrive/AI-datascience-math/chapter1\n"
          ]
        }
      ]
    },
    {
      "cell_type": "code",
      "source": [
        "import pandas as pd\n",
        "df_info = pd.read_csv(\"accomodation_info.csv\", index_col=0, parse_dates=[0])\n",
        "df_info"
      ],
      "metadata": {
        "colab": {
          "base_uri": "https://localhost:8080/",
          "height": 455
        },
        "id": "HGFF1UfSso7_",
        "outputId": "d2aab665-c684-4bab-afd4-84c72420a664"
      },
      "execution_count": 4,
      "outputs": [
        {
          "output_type": "execute_result",
          "data": {
            "text/html": [
              "\n",
              "  <div id=\"df-18d7dcbb-0190-4252-a4d8-7bf0f47135a7\">\n",
              "    <div class=\"colab-df-container\">\n",
              "      <div>\n",
              "<style scoped>\n",
              "    .dataframe tbody tr th:only-of-type {\n",
              "        vertical-align: middle;\n",
              "    }\n",
              "\n",
              "    .dataframe tbody tr th {\n",
              "        vertical-align: top;\n",
              "    }\n",
              "\n",
              "    .dataframe thead th {\n",
              "        text-align: right;\n",
              "    }\n",
              "</style>\n",
              "<table border=\"1\" class=\"dataframe\">\n",
              "  <thead>\n",
              "    <tr style=\"text-align: right;\">\n",
              "      <th></th>\n",
              "      <th>顧客ID</th>\n",
              "      <th>宿泊者名</th>\n",
              "      <th>プラン</th>\n",
              "      <th>金額</th>\n",
              "    </tr>\n",
              "    <tr>\n",
              "      <th>日時</th>\n",
              "      <th></th>\n",
              "      <th></th>\n",
              "      <th></th>\n",
              "      <th></th>\n",
              "    </tr>\n",
              "  </thead>\n",
              "  <tbody>\n",
              "    <tr>\n",
              "      <th>2018-11-01 00:02:21</th>\n",
              "      <td>110034</td>\n",
              "      <td>若松 花子</td>\n",
              "      <td>B</td>\n",
              "      <td>19000</td>\n",
              "    </tr>\n",
              "    <tr>\n",
              "      <th>2018-11-01 00:03:10</th>\n",
              "      <td>112804</td>\n",
              "      <td>津田 美加子</td>\n",
              "      <td>D</td>\n",
              "      <td>20000</td>\n",
              "    </tr>\n",
              "    <tr>\n",
              "      <th>2018-11-01 00:06:19</th>\n",
              "      <td>110275</td>\n",
              "      <td>吉本 美加子</td>\n",
              "      <td>D</td>\n",
              "      <td>20000</td>\n",
              "    </tr>\n",
              "    <tr>\n",
              "      <th>2018-11-01 00:08:41</th>\n",
              "      <td>110169</td>\n",
              "      <td>坂本 直人</td>\n",
              "      <td>B</td>\n",
              "      <td>19000</td>\n",
              "    </tr>\n",
              "    <tr>\n",
              "      <th>2018-11-01 00:12:22</th>\n",
              "      <td>111504</td>\n",
              "      <td>青山 零</td>\n",
              "      <td>A</td>\n",
              "      <td>15000</td>\n",
              "    </tr>\n",
              "    <tr>\n",
              "      <th>...</th>\n",
              "      <td>...</td>\n",
              "      <td>...</td>\n",
              "      <td>...</td>\n",
              "      <td>...</td>\n",
              "    </tr>\n",
              "    <tr>\n",
              "      <th>2020-10-31 23:38:51</th>\n",
              "      <td>110049</td>\n",
              "      <td>吉本 篤司</td>\n",
              "      <td>A</td>\n",
              "      <td>3000</td>\n",
              "    </tr>\n",
              "    <tr>\n",
              "      <th>2020-10-31 23:42:12</th>\n",
              "      <td>110127</td>\n",
              "      <td>喜嶋 浩</td>\n",
              "      <td>A</td>\n",
              "      <td>3000</td>\n",
              "    </tr>\n",
              "    <tr>\n",
              "      <th>2020-10-31 23:47:24</th>\n",
              "      <td>115464</td>\n",
              "      <td>藤本 明美</td>\n",
              "      <td>D</td>\n",
              "      <td>8000</td>\n",
              "    </tr>\n",
              "    <tr>\n",
              "      <th>2020-10-31 23:53:22</th>\n",
              "      <td>114657</td>\n",
              "      <td>鈴木 七夏</td>\n",
              "      <td>A</td>\n",
              "      <td>3000</td>\n",
              "    </tr>\n",
              "    <tr>\n",
              "      <th>2020-10-31 23:57:21</th>\n",
              "      <td>111407</td>\n",
              "      <td>鈴木 治</td>\n",
              "      <td>A</td>\n",
              "      <td>3000</td>\n",
              "    </tr>\n",
              "  </tbody>\n",
              "</table>\n",
              "<p>71722 rows × 4 columns</p>\n",
              "</div>\n",
              "      <button class=\"colab-df-convert\" onclick=\"convertToInteractive('df-18d7dcbb-0190-4252-a4d8-7bf0f47135a7')\"\n",
              "              title=\"Convert this dataframe to an interactive table.\"\n",
              "              style=\"display:none;\">\n",
              "        \n",
              "  <svg xmlns=\"http://www.w3.org/2000/svg\" height=\"24px\"viewBox=\"0 0 24 24\"\n",
              "       width=\"24px\">\n",
              "    <path d=\"M0 0h24v24H0V0z\" fill=\"none\"/>\n",
              "    <path d=\"M18.56 5.44l.94 2.06.94-2.06 2.06-.94-2.06-.94-.94-2.06-.94 2.06-2.06.94zm-11 1L8.5 8.5l.94-2.06 2.06-.94-2.06-.94L8.5 2.5l-.94 2.06-2.06.94zm10 10l.94 2.06.94-2.06 2.06-.94-2.06-.94-.94-2.06-.94 2.06-2.06.94z\"/><path d=\"M17.41 7.96l-1.37-1.37c-.4-.4-.92-.59-1.43-.59-.52 0-1.04.2-1.43.59L10.3 9.45l-7.72 7.72c-.78.78-.78 2.05 0 2.83L4 21.41c.39.39.9.59 1.41.59.51 0 1.02-.2 1.41-.59l7.78-7.78 2.81-2.81c.8-.78.8-2.07 0-2.86zM5.41 20L4 18.59l7.72-7.72 1.47 1.35L5.41 20z\"/>\n",
              "  </svg>\n",
              "      </button>\n",
              "      \n",
              "  <style>\n",
              "    .colab-df-container {\n",
              "      display:flex;\n",
              "      flex-wrap:wrap;\n",
              "      gap: 12px;\n",
              "    }\n",
              "\n",
              "    .colab-df-convert {\n",
              "      background-color: #E8F0FE;\n",
              "      border: none;\n",
              "      border-radius: 50%;\n",
              "      cursor: pointer;\n",
              "      display: none;\n",
              "      fill: #1967D2;\n",
              "      height: 32px;\n",
              "      padding: 0 0 0 0;\n",
              "      width: 32px;\n",
              "    }\n",
              "\n",
              "    .colab-df-convert:hover {\n",
              "      background-color: #E2EBFA;\n",
              "      box-shadow: 0px 1px 2px rgba(60, 64, 67, 0.3), 0px 1px 3px 1px rgba(60, 64, 67, 0.15);\n",
              "      fill: #174EA6;\n",
              "    }\n",
              "\n",
              "    [theme=dark] .colab-df-convert {\n",
              "      background-color: #3B4455;\n",
              "      fill: #D2E3FC;\n",
              "    }\n",
              "\n",
              "    [theme=dark] .colab-df-convert:hover {\n",
              "      background-color: #434B5C;\n",
              "      box-shadow: 0px 1px 3px 1px rgba(0, 0, 0, 0.15);\n",
              "      filter: drop-shadow(0px 1px 2px rgba(0, 0, 0, 0.3));\n",
              "      fill: #FFFFFF;\n",
              "    }\n",
              "  </style>\n",
              "\n",
              "      <script>\n",
              "        const buttonEl =\n",
              "          document.querySelector('#df-18d7dcbb-0190-4252-a4d8-7bf0f47135a7 button.colab-df-convert');\n",
              "        buttonEl.style.display =\n",
              "          google.colab.kernel.accessAllowed ? 'block' : 'none';\n",
              "\n",
              "        async function convertToInteractive(key) {\n",
              "          const element = document.querySelector('#df-18d7dcbb-0190-4252-a4d8-7bf0f47135a7');\n",
              "          const dataTable =\n",
              "            await google.colab.kernel.invokeFunction('convertToInteractive',\n",
              "                                                     [key], {});\n",
              "          if (!dataTable) return;\n",
              "\n",
              "          const docLinkHtml = 'Like what you see? Visit the ' +\n",
              "            '<a target=\"_blank\" href=https://colab.research.google.com/notebooks/data_table.ipynb>data table notebook</a>'\n",
              "            + ' to learn more about interactive tables.';\n",
              "          element.innerHTML = '';\n",
              "          dataTable['output_type'] = 'display_data';\n",
              "          await google.colab.output.renderOutput(dataTable, element);\n",
              "          const docLink = document.createElement('div');\n",
              "          docLink.innerHTML = docLinkHtml;\n",
              "          element.appendChild(docLink);\n",
              "        }\n",
              "      </script>\n",
              "    </div>\n",
              "  </div>\n",
              "  "
            ],
            "text/plain": [
              "                       顧客ID    宿泊者名 プラン     金額\n",
              "日時                                            \n",
              "2018-11-01 00:02:21  110034   若松 花子   B  19000\n",
              "2018-11-01 00:03:10  112804  津田 美加子   D  20000\n",
              "2018-11-01 00:06:19  110275  吉本 美加子   D  20000\n",
              "2018-11-01 00:08:41  110169   坂本 直人   B  19000\n",
              "2018-11-01 00:12:22  111504    青山 零   A  15000\n",
              "...                     ...     ...  ..    ...\n",
              "2020-10-31 23:38:51  110049   吉本 篤司   A   3000\n",
              "2020-10-31 23:42:12  110127    喜嶋 浩   A   3000\n",
              "2020-10-31 23:47:24  115464   藤本 明美   D   8000\n",
              "2020-10-31 23:53:22  114657   鈴木 七夏   A   3000\n",
              "2020-10-31 23:57:21  111407    鈴木 治   A   3000\n",
              "\n",
              "[71722 rows x 4 columns]"
            ]
          },
          "metadata": {},
          "execution_count": 4
        }
      ]
    },
    {
      "cell_type": "markdown",
      "source": [
        "**1-2:時系列データを可視化してみよう**"
      ],
      "metadata": {
        "id": "LQm4h4A6t6Kd"
      }
    },
    {
      "cell_type": "code",
      "source": [
        "import matplotlib.pyplot as plt\n",
        "plt.plot(df_info[\"金額\"].resample('M').sum(),color=\"k\")\n",
        "plt.xticks(rotation=60)\n",
        "plt.show()"
      ],
      "metadata": {
        "colab": {
          "base_uri": "https://localhost:8080/",
          "height": 307
        },
        "id": "XDbC6pajt5mb",
        "outputId": "89b6f320-82fd-456d-c987-6823137b3cef"
      },
      "execution_count": 5,
      "outputs": [
        {
          "output_type": "display_data",
          "data": {
            "image/png": "[encoded data removed]",
            "text/plain": [
              "<Figure size 432x288 with 1 Axes>"
            ]
          },
          "metadata": {
            "needs_background": "light"
          }
        }
      ]
    },
    {
      "cell_type": "code",
      "source": [
        "import matplotlib.pyplot as plt\n",
        "plt.plot(df_info.resample('M').count(),color=\"k\")\n",
        "plt.xticks(rotation=60)\n",
        "plt.show()"
      ],
      "metadata": {
        "colab": {
          "base_uri": "https://localhost:8080/",
          "height": 296
        },
        "id": "punIxZywuzlA",
        "outputId": "e27a2567-7fd9-46c3-a6f8-1dc4a67834e5"
      },
      "execution_count": 6,
      "outputs": [
        {
          "output_type": "display_data",
          "data": {
            "image/png": "[encoded data removed]",
            "text/plain": [
              "<Figure size 432x288 with 1 Axes>"
            ]
          },
          "metadata": {
            "needs_background": "light"
          }
        }
      ]
    },
    {
      "cell_type": "markdown",
      "source": [
        "**1-3:平均値、中央値、最小値、最大値を出力してみよう**"
      ],
      "metadata": {
        "id": "zYiR8J8RvaAA"
      }
    },
    {
      "cell_type": "code",
      "source": [
        "x_mean = df_info['顧客ID'].value_counts().mean()\n",
        "x_median = df_info['顧客ID'].value_counts().median()\n",
        "x_min = df_info['顧客ID'].value_counts().min()\n",
        "x_max = df_info['顧客ID'].value_counts().max()\n",
        "print(\"平均値:\",x_mean)\n",
        "print(\"中央値:\",x_median)\n",
        "print(\"最小値:\",x_min)\n",
        "print(\"最大値:\",x_max)"
      ],
      "metadata": {
        "colab": {
          "base_uri": "https://localhost:8080/"
        },
        "id": "1oOZJBGPvmC8",
        "outputId": "a87e7b94-42b9-4823-b79b-402266184a92"
      },
      "execution_count": 7,
      "outputs": [
        {
          "output_type": "stream",
          "name": "stdout",
          "text": [
            "平均値: 13.073641997812613\n",
            "中央値: 7.0\n",
            "最小値: 1\n",
            "最大値: 184\n"
          ]
        }
      ]
    },
    {
      "cell_type": "markdown",
      "source": [
        "**1-4:分布のカタチを見てみよう**"
      ],
      "metadata": {
        "id": "IdLXBKdjzio1"
      }
    },
    {
      "cell_type": "code",
      "source": [
        "import matplotlib.pyplot as plt\n",
        "x = df_info['顧客ID'].value_counts()\n",
        "x_hist,t_hist,_ = plt.hist(x,21,color=\"k\")\n",
        "plt.show()"
      ],
      "metadata": {
        "colab": {
          "base_uri": "https://localhost:8080/",
          "height": 265
        },
        "id": "HvrIPDklziR_",
        "outputId": "6f41b7cd-4890-498e-b0b6-35026c3b1785"
      },
      "execution_count": 9,
      "outputs": [
        {
          "output_type": "display_data",
          "data": {
            "image/png": "[encoded data removed]",
            "text/plain": [
              "<Figure size 432x288 with 1 Axes>"
            ]
          },
          "metadata": {
            "needs_background": "light"
          }
        }
      ]
    }
  ]
}